{
  "nbformat": 4,
  "nbformat_minor": 0,
  "metadata": {
    "colab": {
      "name": "class_instance.ipynb",
      "provenance": [],
      "collapsed_sections": [],
      "authorship_tag": "ABX9TyMowQuiZGC8mX4gDB7X9OGw",
      "include_colab_link": true
    },
    "kernelspec": {
      "name": "python3",
      "display_name": "Python 3"
    }
  },
  "cells": [
    {
      "cell_type": "markdown",
      "metadata": {
        "id": "view-in-github",
        "colab_type": "text"
      },
      "source": [
        "<a href=\"https://colab.research.google.com/github/efazel/python_checkpoints/blob/master/class_instance.ipynb\" target=\"_parent\"><img src=\"https://colab.research.google.com/assets/colab-badge.svg\" alt=\"Open In Colab\"/></a>"
      ]
    },
    {
      "cell_type": "markdown",
      "metadata": {
        "id": "rkDHqSHvtRlg",
        "colab_type": "text"
      },
      "source": [
        "An exercise to create classes with __init__ method for commodity futures contracts."
      ]
    },
    {
      "cell_type": "code",
      "metadata": {
        "id": "83NyPC_dI4dU",
        "colab_type": "code",
        "colab": {
          "base_uri": "https://localhost:8080/",
          "height": 34
        },
        "outputId": "810100e8-ac33-4035-9917-ca100fd803aa"
      },
      "source": [
        "class Mnemonics_enrgey():\n",
        "  \"\"\"\n",
        "  Blue print for energies\n",
        "\n",
        "  \"\"\"\n",
        "  def __init__(self, name, exchange, ticker):\n",
        "    self.name = name\n",
        "    self.category = 'Energies'\n",
        "    self.exchange = exchange\n",
        "    self.ticker = ticker\n",
        "    self.delivery = '1:12'\n",
        "    self.unit = '1,000 barrels'\n",
        "\n",
        "\n",
        "\n",
        "crude_oil = Mnemonics_enrgey ('Crude Oil', 'ICE', 'CO')\n",
        "heating_oil = Mnemonics_enrgey('Heating Oil', 'NYMEX', 'HO')\n",
        "wti = Mnemonics_enrgey('West Texas Intermediate', 'NYMEX', 'CL')\n",
        "\n",
        "# Example: \n",
        "print(wti.unit)"
      ],
      "execution_count": null,
      "outputs": [
        {
          "output_type": "stream",
          "text": [
            "1,000 barrels\n"
          ],
          "name": "stdout"
        }
      ]
    },
    {
      "cell_type": "code",
      "metadata": {
        "id": "mMKZDBOQKtzd",
        "colab_type": "code",
        "colab": {
          "base_uri": "https://localhost:8080/",
          "height": 34
        },
        "outputId": "9bdf0249-3ffe-4ef3-fb24-a10267ed0c57"
      },
      "source": [
        "class Mnemonics_grains():\n",
        "   \"\"\"\n",
        "  Blue print for grains\n",
        "\n",
        "  \"\"\"\n",
        "   def __init__(self, name, ticker, delivery):\n",
        "      self.name = name\n",
        "      self.category = 'Grains & Oilseeds'\n",
        "      self.exchange = 'CBOT'\n",
        "      self.ticker = ticker\n",
        "      self.delivery = delivery\n",
        "      self.unit = '5,000 bushels'\n",
        "\n",
        "corn = Mnemonics_grains('Corn', 'C', '3,5,7,8,12')\n",
        "soybeans = Mnemonics_grains('Soybeans', 'S', '1,3,5,7,8,9,11')\n",
        "wheat = Mnemonics_grains('Wheat', 'W', '3,5,7,9,12')\n",
        "\n",
        "# Example:\n",
        "print(wheat.ticker)"
      ],
      "execution_count": 1,
      "outputs": [
        {
          "output_type": "stream",
          "text": [
            "W\n"
          ],
          "name": "stdout"
        }
      ]
    },
    {
      "cell_type": "code",
      "metadata": {
        "id": "_uQoA0HDWb35",
        "colab_type": "code",
        "colab": {
          "base_uri": "https://localhost:8080/",
          "height": 34
        },
        "outputId": "f113fe52-173d-411a-9051-350190cbaf55"
      },
      "source": [
        "class Mnemonics_livestock():\n",
        "  \"\"\"\n",
        "  Blue print for lovestock\n",
        "\n",
        "  \"\"\"\n",
        "  def __init__(self, name, ticker, delivery):\n",
        "    self.name = name\n",
        "    self.cetagory = 'Livestock'\n",
        "    self.exchange = 'CME'\n",
        "    self.ticker = ticker\n",
        "    self.delivery = delivery\n",
        "    self.unit = '40,000 lbs'\n",
        "\n",
        "feeder_cattle = Mnemonics_livestock('Feeder Cattle', 'FC', '1,3,4,5,8,9,10,11')\n",
        "lean_hogs = Mnemonics_livestock('Lean Hogs', 'LH', '2,4,,6,7,8,10,12')\n",
        "live_cattle = Mnemonics_livestock('Live Cattle', 'LC', '2,4,6,8,10,12')\n",
        "\n",
        "# Example:\n",
        "print(lean_hogs.exchange)"
      ],
      "execution_count": null,
      "outputs": [
        {
          "output_type": "stream",
          "text": [
            "CME\n"
          ],
          "name": "stdout"
        }
      ]
    },
    {
      "cell_type": "code",
      "metadata": {
        "id": "KaICQrBVZfBc",
        "colab_type": "code",
        "colab": {
          "base_uri": "https://localhost:8080/",
          "height": 34
        },
        "outputId": "257bb3c5-9bcc-4562-e574-3eec68cee42b"
      },
      "source": [
        "class Mnemonics_Metals():\n",
        "  \"\"\"\n",
        "  Blue print for livestock\n",
        "\n",
        "  \"\"\"\n",
        "  def __init__(self, name, ticker, unit):\n",
        "    self.name = name\n",
        "    self.category = 'Metals'\n",
        "    self.exchange = 'LME'\n",
        "    self.ticker = ticker\n",
        "    self.delivery = '1:12'\n",
        "    self.unti = unit\n",
        "\n",
        "aluminium = Mnemonics_Metals('Aluminium', 'LA', '25 metric tons')\n",
        "copper = Mnemonics_Metals('Copper', 'LP', '25,000 lbs')\n",
        "lead = Mnemonics_Metals('Lead', 'LL', '25 metric tons')\n",
        "nickel = Mnemonics_Metals('Nickel', 'LN', '6 metric tons')\n",
        "tin = Mnemonics_Metals('Tin', 'LT', '5 metric tons')\n",
        "zinc = Mnemonics_Metals('Zinc', 'LX', '25 metric tons')\n",
        "\n",
        "# Example:\n",
        "print(tin.delivery)"
      ],
      "execution_count": 2,
      "outputs": [
        {
          "output_type": "stream",
          "text": [
            "1:12\n"
          ],
          "name": "stdout"
        }
      ]
    },
    {
      "cell_type": "code",
      "metadata": {
        "id": "5HOEFxuJsAhM",
        "colab_type": "code",
        "colab": {
          "base_uri": "https://localhost:8080/",
          "height": 34
        },
        "outputId": "03876300-01a0-4b1e-a7ca-9112bd6e8b4f"
      },
      "source": [
        "class Mnemonics_Softs():\n",
        "  \"\"\"\n",
        "  Blue print for softs\n",
        "\n",
        "  \"\"\"\n",
        "  def __init__(self, name, ticker, delivery, unit):\n",
        "    self.name = name\n",
        "    self.category = 'Softs'\n",
        "    self.exchange = 'ICE'\n",
        "    self.ticker = ticker\n",
        "    self.delivery = delivery\n",
        "    self.unit = unit\n",
        "\n",
        "cocoa = Mnemonics_Softs('Cocoa', 'CC', '3,5,7,9,12', '10 metric tons')\n",
        "coffee = Mnemonics_Softs('Coffee', 'KC', '3,5,7,9,12', '37,500 lbs')\n",
        "cotton = Mnemonics_Softs('Cotton', 'CT', '3,5,7,10,12', '50,000 lbs')\n",
        "sugar = Mnemonics_Softs('Sugar', 'SB', '3,5,7,10', '112,000 lbs')\n",
        "\n",
        "# Example:\n",
        "print(sugar.category)"
      ],
      "execution_count": 3,
      "outputs": [
        {
          "output_type": "stream",
          "text": [
            "Softs\n"
          ],
          "name": "stdout"
        }
      ]
    },
    {
      "cell_type": "code",
      "metadata": {
        "id": "8H4igEd2AON_",
        "colab_type": "code",
        "colab": {}
      },
      "source": [
        ""
      ],
      "execution_count": null,
      "outputs": []
    }
  ]
}