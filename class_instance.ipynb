{
  "nbformat": 4,
  "nbformat_minor": 0,
  "metadata": {
    "colab": {
      "name": "class_instance.ipynb",
      "provenance": [],
      "authorship_tag": "ABX9TyM2fVqXwtYUur+23nvkB02s",
      "include_colab_link": true
    },
    "kernelspec": {
      "name": "python3",
      "display_name": "Python 3"
    }
  },
  "cells": [
    {
      "cell_type": "markdown",
      "metadata": {
        "id": "view-in-github",
        "colab_type": "text"
      },
      "source": [
        "<a href=\"https://colab.research.google.com/github/efazel/python_checkpoints/blob/master/class_instance.ipynb\" target=\"_parent\"><img src=\"https://colab.research.google.com/assets/colab-badge.svg\" alt=\"Open In Colab\"/></a>"
      ]
    },
    {
      "cell_type": "code",
      "metadata": {
        "id": "83NyPC_dI4dU",
        "colab_type": "code",
        "colab": {
          "base_uri": "https://localhost:8080/",
          "height": 34
        },
        "outputId": "afddd26b-aae9-43ff-d872-05fa1011cb6f"
      },
      "source": [
        "class Mnemonics_enrgey():\n",
        "  \"\"\"\n",
        "  Blue print for energies\n",
        "\n",
        "  \"\"\"\n",
        "  def __init__(self, name, exchange, ticker):\n",
        "    self.name = name\n",
        "    self.category = 'Energies'\n",
        "    self.exchange = exchange\n",
        "    self.ticker = ticker\n",
        "    self.delivery = '1:12'\n",
        "    self.unit = '1,000 barrels'\n",
        "\n",
        "\n",
        "\n",
        "crude_oil = Mnemonics_enrgey ('Crude Oil', 'ICE', 'CO')\n",
        "heating_oil = Mnemonics_enrgey('Heating Oil', 'NYMEX', 'HO')\n",
        "wti = Mnemonics_enrgey('West Texas Intermediate', 'NYMEX', 'CL')"
      ],
      "execution_count": 22,
      "outputs": [
        {
          "output_type": "stream",
          "text": [
            "1,000 barrels\n"
          ],
          "name": "stdout"
        }
      ]
    },
    {
      "cell_type": "code",
      "metadata": {
        "id": "mMKZDBOQKtzd",
        "colab_type": "code",
        "colab": {}
      },
      "source": [
        "class Mnemonics_grains():\n",
        "   \"\"\"\n",
        "  Blue print for grains\n",
        "\n",
        "  \"\"\"\n",
        "   def __init__(self, name, ticker, delivery):\n",
        "      self.name = name\n",
        "      self.category = 'Grains & Oilseeds'\n",
        "      self.exchange = 'CBOT'\n",
        "      self.ticker = ticker\n",
        "      self.delivery = delivery\n",
        "      self.unit = '5,000 bushels'\n",
        "\n",
        "corn = Mnemonics_grains('Corn', 'C', '3,5,7,8,12')\n",
        "soybeans = Mnemonics_grains('Soybeans', 'S', '1,3,5,7,8,9,11')\n",
        "wheat = Mnemonics_grains('Wheat', 'W', '3,5,7,9,12')"
      ],
      "execution_count": 23,
      "outputs": []
    },
    {
      "cell_type": "code",
      "metadata": {
        "id": "_uQoA0HDWb35",
        "colab_type": "code",
        "colab": {
          "base_uri": "https://localhost:8080/",
          "height": 34
        },
        "outputId": "f113fe52-173d-411a-9051-350190cbaf55"
      },
      "source": [
        "class Mnemonics_livestock():\n",
        "  \"\"\"\n",
        "  Blue print for grains\n",
        "\n",
        "  \"\"\"\n",
        "  def __init__(self, name, ticker, delivery):\n",
        "    self.name = name\n",
        "    self.cetagory = 'Livestock'\n",
        "    self.exchange = 'CME'\n",
        "    self.ticker = ticker\n",
        "    self.delivery = delivery\n",
        "    self.unit = '40,000 lbs'\n",
        "\n",
        "feeder_cattle = Mnemonics_livestock('Feeder Cattle', 'FC', '1,3,4,5,8,9,10,11')\n",
        "lean_hogs = Mnemonics_livestock('Lean Hogs', 'LH', '2,4,,6,7,8,10,12')\n",
        "live_cattle = Mnemonics_livestock('Live Cattle', 'LC', '2,4,6,8,10,12')\n",
        "\n",
        "print(lean_hogs.exchange)"
      ],
      "execution_count": 29,
      "outputs": [
        {
          "output_type": "stream",
          "text": [
            "CME\n"
          ],
          "name": "stdout"
        }
      ]
    },
    {
      "cell_type": "code",
      "metadata": {
        "id": "KaICQrBVZfBc",
        "colab_type": "code",
        "colab": {}
      },
      "source": [
        ""
      ],
      "execution_count": null,
      "outputs": []
    }
  ]
}