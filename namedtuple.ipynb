{
  "nbformat": 4,
  "nbformat_minor": 0,
  "metadata": {
    "colab": {
      "name": "namedtuple.ipynb",
      "provenance": [],
      "authorship_tag": "ABX9TyMf6ba6zOO/0Nc7UEhxeo6T",
      "include_colab_link": true
    },
    "kernelspec": {
      "name": "python3",
      "display_name": "Python 3"
    }
  },
  "cells": [
    {
      "cell_type": "markdown",
      "metadata": {
        "id": "view-in-github",
        "colab_type": "text"
      },
      "source": [
        "<a href=\"https://colab.research.google.com/github/efazel/python_checkpoints/blob/master/namedtuple.ipynb\" target=\"_parent\"><img src=\"https://colab.research.google.com/assets/colab-badge.svg\" alt=\"Open In Colab\"/></a>"
      ]
    },
    {
      "cell_type": "markdown",
      "metadata": {
        "id": "sjdxJkSbBVU1",
        "colab_type": "text"
      },
      "source": [
        "Namedtuples in P are a way to respresent a tuple in a more informative manner. "
      ]
    },
    {
      "cell_type": "code",
      "metadata": {
        "id": "iBQdlTUzBN26",
        "colab_type": "code",
        "colab": {}
      },
      "source": [
        "from collections import namedtuple"
      ],
      "execution_count": 1,
      "outputs": []
    },
    {
      "cell_type": "code",
      "metadata": {
        "id": "pW4TDVJeBnYQ",
        "colab_type": "code",
        "colab": {}
      },
      "source": [
        "Commodity = namedtuple('Commodity', ['name', 'exchange', 'category', 'delivery', 'unit'])\n",
        "\n",
        "CL = Commodity('WTI', 'NYMEX', 'Energies', '1:12', '1,000 barrels')\n",
        "HO = Commodity('Heating Oil', 'NYMEX','Energies', '1:12', '1,000 barrels')\n",
        "C = Commodity('Corn', 'CBOT', 'Grains and Oilseeds', '3,5,7,9,12', '5,000 bushels')\n",
        "S = Commodity('Soybeans', 'CBOT', 'Grains and Oilseeds', '1,3,5,7,8,9,11', '5,000 bushels')\n",
        "FC = Commodity('Feeder Cattle', 'CME', 'Livestock', '1,3,4,5,8,9,10,11', '40,000 lbs')\n",
        "LC = Commodity('Live Cattle', 'CME', 'Livestock', '2,4,6,8,10,12', '40,000 lbs')\n",
        "LP = Commodity('Copper', 'LME', 'Base Metals', '1:12', '25,000 tons')\n",
        "LX = Commodity('Zinc', 'LME', 'Base Metals', '1:12', '25 metric tons')\n",
        "CT = Commodity('Cotton', 'ICE', 'Softs', '3,5,7,10,12', '50,000 lbs')\n",
        "SB = Commodity('Sugar', 'ICE', 'Softs', '3,5,7,10', '112,000')\n"
      ],
      "execution_count": 26,
      "outputs": []
    },
    {
      "cell_type": "code",
      "metadata": {
        "id": "YfL_YRGJEOkx",
        "colab_type": "code",
        "colab": {
          "base_uri": "https://localhost:8080/",
          "height": 102
        },
        "outputId": "7ab6b71e-f838-461a-84d4-cce44c49c3ea"
      },
      "source": [
        "com = LX\n",
        "print('Commodity: ' + com.name)\n",
        "print('Exchange Market: ' + com.exchange)\n",
        "print('Category: ' + com.category)\n",
        "print('Delivery Months: ' + com.delivery)\n",
        "print('Unit per Delivery: ' + com.unit)"
      ],
      "execution_count": 33,
      "outputs": [
        {
          "output_type": "stream",
          "text": [
            "Commodity: Zinc\n",
            "Exchange Market: LME\n",
            "Category: Base Metals\n",
            "Delivery Months: 1:12\n",
            "Unit per Delivery: 25 metric tons\n"
          ],
          "name": "stdout"
        }
      ]
    },
    {
      "cell_type": "code",
      "metadata": {
        "id": "y09qW8pnG7V7",
        "colab_type": "code",
        "colab": {}
      },
      "source": [
        ""
      ],
      "execution_count": 32,
      "outputs": []
    }
  ]
}