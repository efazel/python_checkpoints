{
  "nbformat": 4,
  "nbformat_minor": 0,
  "metadata": {
    "colab": {
      "name": "namedtuple.ipynb",
      "provenance": [],
      "authorship_tag": "ABX9TyOBGaUNxXeRYdh+AmNorLCM",
      "include_colab_link": true
    },
    "kernelspec": {
      "name": "python3",
      "display_name": "Python 3"
    }
  },
  "cells": [
    {
      "cell_type": "markdown",
      "metadata": {
        "id": "view-in-github",
        "colab_type": "text"
      },
      "source": [
        "<a href=\"https://colab.research.google.com/github/efazel/python_checkpoints/blob/master/namedtuple.ipynb\" target=\"_parent\"><img src=\"https://colab.research.google.com/assets/colab-badge.svg\" alt=\"Open In Colab\"/></a>"
      ]
    },
    {
      "cell_type": "markdown",
      "metadata": {
        "id": "sjdxJkSbBVU1",
        "colab_type": "text"
      },
      "source": [
        "Namedtuples are ways to respresent a tuple in a more informative manner. They are similar to dictionary in the sense that we can call values by name. We can use a tuple to contain the information regarding a specific commodity. The following example creates a tuple for ticker CL that includes the name, exchange market, category, delivery months, and unit of delivery. The drawback of using tuple is that it would not be informative about the elements. This example might seem informative enough to those who are familiar with commodity futures, but perhaps one has little knowledge about the financial markets and as a results does not know what 1:12 means. "
      ]
    },
    {
      "cell_type": "code",
      "metadata": {
        "id": "yiibeWgfQ-wB",
        "colab_type": "code",
        "colab": {
          "base_uri": "https://localhost:8080/",
          "height": 34
        },
        "outputId": "99637900-5941-4080-dc29-b1f30c5f6b6b"
      },
      "source": [
        "CL_tpl = ('West Texas Intermediate', 'NYMEX', 'Energies', '1:12', '1,000 barrels')\n",
        "print(CL_tpl[0])"
      ],
      "execution_count": null,
      "outputs": [
        {
          "output_type": "stream",
          "text": [
            "West Texas Intermediate\n"
          ],
          "name": "stdout"
        }
      ]
    },
    {
      "cell_type": "markdown",
      "metadata": {
        "id": "_15SrytBSoCw",
        "colab_type": "text"
      },
      "source": [
        "One possible solution that can ecompass more information is dictionary. Each element in the dictionary has a key that can be used to call the element. Thus, in our example:"
      ]
    },
    {
      "cell_type": "code",
      "metadata": {
        "id": "3BZG8m_tSgaG",
        "colab_type": "code",
        "colab": {
          "base_uri": "https://localhost:8080/",
          "height": 34
        },
        "outputId": "0f4974fc-7e37-4f95-ce47-26ecaaaeb345"
      },
      "source": [
        "CL_dctn = {'name':'West Texas Intermediate', 'exchange':'NYMEX', 'category':'Energies', 'delivery':'1:12', 'unit':'1,000 barrels'}\n",
        "print(CL_dctn['name'])"
      ],
      "execution_count": null,
      "outputs": [
        {
          "output_type": "stream",
          "text": [
            "West Texas Intermediate\n"
          ],
          "name": "stdout"
        }
      ]
    },
    {
      "cell_type": "markdown",
      "metadata": {
        "id": "v9_liMXgudQy",
        "colab_type": "text"
      },
      "source": [
        "But let us assume that we are interested in immutable objects, then the chouce would be tuples."
      ]
    },
    {
      "cell_type": "code",
      "metadata": {
        "id": "iBQdlTUzBN26",
        "colab_type": "code",
        "colab": {}
      },
      "source": [
        "from collections import namedtuple"
      ],
      "execution_count": null,
      "outputs": []
    },
    {
      "cell_type": "code",
      "metadata": {
        "id": "pW4TDVJeBnYQ",
        "colab_type": "code",
        "colab": {}
      },
      "source": [
        "Commodity = namedtuple('Commodity', ['name', 'exchange', 'category', 'delivery', 'unit'])\n",
        "\n",
        "CL = Commodity('WTI', 'NYMEX', 'Energies', '1:12', '1,000 barrels')\n",
        "HO = Commodity('Heating Oil', 'NYMEX','Energies', '1:12', '1,000 barrels')\n",
        "C = Commodity('Corn', 'CBOT', 'Grains and Oilseeds', '3,5,7,9,12', '5,000 bushels')\n",
        "S = Commodity('Soybeans', 'CBOT', 'Grains and Oilseeds', '1,3,5,7,8,9,11', '5,000 bushels')\n",
        "FC = Commodity('Feeder Cattle', 'CME', 'Livestock', '1,3,4,5,8,9,10,11', '40,000 lbs')\n",
        "LC = Commodity('Live Cattle', 'CME', 'Livestock', '2,4,6,8,10,12', '40,000 lbs')\n",
        "LP = Commodity('Copper', 'LME', 'Base Metals', '1:12', '25,000 tons')\n",
        "LX = Commodity('Zinc', 'LME', 'Base Metals', '1:12', '25 metric tons')\n",
        "CT = Commodity('Cotton', 'ICE', 'Softs', '3,5,7,10,12', '50,000 lbs')\n",
        "SB = Commodity('Sugar', 'ICE', 'Softs', '3,5,7,10', '112,000')\n"
      ],
      "execution_count": null,
      "outputs": []
    },
    {
      "cell_type": "code",
      "metadata": {
        "id": "YfL_YRGJEOkx",
        "colab_type": "code",
        "colab": {
          "base_uri": "https://localhost:8080/",
          "height": 102
        },
        "outputId": "7ab6b71e-f838-461a-84d4-cce44c49c3ea"
      },
      "source": [
        "com = LX\n",
        "print('Commodity: ' + com.name)\n",
        "print('Exchange Market: ' + com.exchange)\n",
        "print('Category: ' + com.category)\n",
        "print('Delivery Months: ' + com.delivery)\n",
        "print('Unit per Delivery: ' + com.unit)"
      ],
      "execution_count": null,
      "outputs": [
        {
          "output_type": "stream",
          "text": [
            "Commodity: Zinc\n",
            "Exchange Market: LME\n",
            "Category: Base Metals\n",
            "Delivery Months: 1:12\n",
            "Unit per Delivery: 25 metric tons\n"
          ],
          "name": "stdout"
        }
      ]
    }
  ]
}